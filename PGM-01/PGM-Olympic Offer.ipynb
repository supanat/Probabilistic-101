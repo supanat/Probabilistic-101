{
 "cells": [
  {
   "cell_type": "code",
   "execution_count": 1,
   "metadata": {},
   "outputs": [],
   "source": [
    "#!pip install pgmpy\n",
    "## https://www.youtube.com/watch?v=DEHqIxX1Kq4"
   ]
  },
  {
   "cell_type": "code",
   "execution_count": 2,
   "metadata": {},
   "outputs": [],
   "source": [
    "from pgmpy.factors.discrete import TabularCPD\n",
    "from pgmpy.models import BayesianModel "
   ]
  },
  {
   "cell_type": "markdown",
   "metadata": {},
   "source": [
    "### Setting up model"
   ]
  },
  {
   "cell_type": "markdown",
   "metadata": {},
   "source": [
    "1. Set the structure"
   ]
  },
  {
   "cell_type": "code",
   "execution_count": 3,
   "metadata": {},
   "outputs": [],
   "source": [
    "olympic_model = BayesianModel([('Genetics','OlympicTrials'),\n",
    "                              ('Practice','OlympicTrials'),\n",
    "                              ('OlympicTrials','Offer')])"
   ]
  },
  {
   "cell_type": "markdown",
   "metadata": {},
   "source": [
    "2. Set up the relashionships (CPDs)"
   ]
  },
  {
   "cell_type": "code",
   "execution_count": 4,
   "metadata": {},
   "outputs": [],
   "source": [
    "genetics_cpd = TabularCPD(variable='Genetics', \n",
    "                           variable_card=2, \n",
    "                           values=[[0.2, 0.8]])"
   ]
  },
  {
   "cell_type": "code",
   "execution_count": 5,
   "metadata": {},
   "outputs": [],
   "source": [
    "practice_cpd = TabularCPD(variable='Practice', \n",
    "                           variable_card=2, \n",
    "                           values=[[0.7, 0.3]])"
   ]
  },
  {
   "cell_type": "code",
   "execution_count": 6,
   "metadata": {},
   "outputs": [],
   "source": [
    "offer_cpd = TabularCPD(variable='Offer', \n",
    "                           variable_card=2, \n",
    "                           values=[[0.95, 0.8,0.5],\n",
    "                                  [0.05, 0.2,0.5]],\n",
    "                      evidence = ['OlympicTrials'],\n",
    "                      evidence_card = [3])"
   ]
  },
  {
   "cell_type": "code",
   "execution_count": 7,
   "metadata": {},
   "outputs": [],
   "source": [
    "olympic_trials_cpd = TabularCPD(variable='OlympicTrials', \n",
    "                           variable_card=3, \n",
    "                           values=[[0.5, 0.8,0.8,0.9],\n",
    "                                  [0.3, 0.15,0.1,0.08],\n",
    "                                  [0.2, 0.05,0.1,0.02]],\n",
    "                      evidence = ['Genetics','Practice'],\n",
    "                      evidence_card = [2,2])"
   ]
  },
  {
   "cell_type": "markdown",
   "metadata": {},
   "source": [
    "3. Add relashionship to models"
   ]
  },
  {
   "cell_type": "code",
   "execution_count": 8,
   "metadata": {},
   "outputs": [],
   "source": [
    "olympic_model.add_cpds(genetics_cpd,practice_cpd,offer_cpd,olympic_trials_cpd)"
   ]
  },
  {
   "cell_type": "markdown",
   "metadata": {},
   "source": [
    "Examine the structure of graph"
   ]
  },
  {
   "cell_type": "code",
   "execution_count": 9,
   "metadata": {},
   "outputs": [
    {
     "data": {
      "text/plain": [
       "[<TabularCPD representing P(Genetics:2) at 0xa24504240>,\n",
       " <TabularCPD representing P(Practice:2) at 0x1924e50748>,\n",
       " <TabularCPD representing P(Offer:2 | OlympicTrials:3) at 0x1924e50ac8>,\n",
       " <TabularCPD representing P(OlympicTrials:3 | Genetics:2, Practice:2) at 0x1924e50cc0>]"
      ]
     },
     "execution_count": 9,
     "metadata": {},
     "output_type": "execute_result"
    }
   ],
   "source": [
    "olympic_model.get_cpds()"
   ]
  },
  {
   "cell_type": "markdown",
   "metadata": {},
   "source": [
    "find active trial nodes"
   ]
  },
  {
   "cell_type": "code",
   "execution_count": 10,
   "metadata": {},
   "outputs": [
    {
     "data": {
      "text/plain": [
       "{'Genetics': {'Genetics', 'Offer', 'OlympicTrials'}}"
      ]
     },
     "execution_count": 10,
     "metadata": {},
     "output_type": "execute_result"
    }
   ],
   "source": [
    "olympic_model.active_trail_nodes('Genetics')"
   ]
  },
  {
   "cell_type": "code",
   "execution_count": 12,
   "metadata": {},
   "outputs": [
    {
     "data": {
      "text/plain": [
       "{'OlympicTrials': {'Genetics', 'Offer', 'OlympicTrials', 'Practice'}}"
      ]
     },
     "execution_count": 12,
     "metadata": {},
     "output_type": "execute_result"
    }
   ],
   "source": [
    "olympic_model.active_trail_nodes('OlympicTrials')"
   ]
  },
  {
   "cell_type": "markdown",
   "metadata": {},
   "source": [
    "Find Local Independecies"
   ]
  },
  {
   "cell_type": "code",
   "execution_count": 13,
   "metadata": {},
   "outputs": [
    {
     "data": {
      "text/plain": [
       "(Genetics _|_ Practice, Offer, OlympicTrials)"
      ]
     },
     "execution_count": 13,
     "metadata": {},
     "output_type": "execute_result"
    }
   ],
   "source": [
    "olympic_model.local_independencies('Genetics')"
   ]
  },
  {
   "cell_type": "code",
   "execution_count": 14,
   "metadata": {},
   "outputs": [
    {
     "data": {
      "text/plain": [
       "(OlympicTrials _|_ Offer | Practice, Genetics)"
      ]
     },
     "execution_count": 14,
     "metadata": {},
     "output_type": "execute_result"
    }
   ],
   "source": [
    "olympic_model.local_independencies('OlympicTrials')"
   ]
  },
  {
   "cell_type": "markdown",
   "metadata": {},
   "source": [
    "Get all independencies"
   ]
  },
  {
   "cell_type": "code",
   "execution_count": 15,
   "metadata": {},
   "outputs": [
    {
     "data": {
      "text/plain": [
       "(Genetics _|_ Practice)\n",
       "(Genetics _|_ Offer | OlympicTrials)\n",
       "(Genetics _|_ Offer | Practice, OlympicTrials)\n",
       "(Practice _|_ Genetics)\n",
       "(Practice _|_ Offer | OlympicTrials)\n",
       "(Practice _|_ Offer | Genetics, OlympicTrials)\n",
       "(Offer _|_ Practice, Genetics | OlympicTrials)\n",
       "(Offer _|_ Genetics | Practice, OlympicTrials)\n",
       "(Offer _|_ Practice | Genetics, OlympicTrials)"
      ]
     },
     "execution_count": 15,
     "metadata": {},
     "output_type": "execute_result"
    }
   ],
   "source": [
    "olympic_model.get_independencies()"
   ]
  },
  {
   "cell_type": "markdown",
   "metadata": {},
   "source": [
    "### Making Inference"
   ]
  },
  {
   "cell_type": "markdown",
   "metadata": {},
   "source": [
    "We can get probability distributions that are not explicitly spelles out in our graphs"
   ]
  },
  {
   "cell_type": "code",
   "execution_count": 16,
   "metadata": {},
   "outputs": [],
   "source": [
    "from pgmpy.inference import VariableElimination"
   ]
  },
  {
   "cell_type": "code",
   "execution_count": 17,
   "metadata": {},
   "outputs": [],
   "source": [
    "olympic_infer = VariableElimination(olympic_model)"
   ]
  },
  {
   "cell_type": "code",
   "execution_count": 18,
   "metadata": {},
   "outputs": [
    {
     "name": "stderr",
     "output_type": "stream",
     "text": [
      "/Users/supanatj/anaconda3/lib/python3.6/site-packages/pgmpy/factors/discrete/DiscreteFactor.py:598: FutureWarning: Using a non-tuple sequence for multidimensional indexing is deprecated; use `arr[tuple(seq)]` instead of `arr[seq]`. In the future this will be interpreted as an array index, `arr[np.array(seq)]`, which will result either in an error or a different result.\n",
      "  phi1.values = phi1.values[slice_]\n"
     ]
    }
   ],
   "source": [
    "prob_offer = olympic_infer.query(variables = ['Offer'])"
   ]
  },
  {
   "cell_type": "code",
   "execution_count": 33,
   "metadata": {},
   "outputs": [
    {
     "name": "stdout",
     "output_type": "stream",
     "text": [
      "╒═════════╤══════════════╕\n",
      "│ Offer   │   phi(Offer) │\n",
      "╞═════════╪══════════════╡\n",
      "│ Offer_0 │       0.8898 │\n",
      "├─────────┼──────────────┤\n",
      "│ Offer_1 │       0.1102 │\n",
      "╘═════════╧══════════════╛\n"
     ]
    },
    {
     "data": {
      "text/plain": [
       "'\\noffer_0 equal no offer\\n\\n'"
      ]
     },
     "execution_count": 33,
     "metadata": {},
     "output_type": "execute_result"
    }
   ],
   "source": [
    "print(prob_offer['Offer'])\n",
    "### note\n",
    "'''\n",
    "offer_0 equal no offer\n",
    "\n",
    "'''"
   ]
  },
  {
   "cell_type": "markdown",
   "metadata": {},
   "source": [
    "We can also get conditional probability distribution that take into account that we already know"
   ]
  },
  {
   "cell_type": "code",
   "execution_count": 34,
   "metadata": {},
   "outputs": [
    {
     "name": "stdout",
     "output_type": "stream",
     "text": [
      "╒════════════╤═════════════════╕\n",
      "│ Genetics   │   phi(Genetics) │\n",
      "╞════════════╪═════════════════╡\n",
      "│ Genetics_0 │          0.2000 │\n",
      "├────────────┼─────────────────┤\n",
      "│ Genetics_1 │          0.8000 │\n",
      "╘════════════╧═════════════════╛\n",
      "╒═════════╤══════════════╕\n",
      "│ Offer   │   phi(Offer) │\n",
      "╞═════════╪══════════════╡\n",
      "│ Offer_0 │       0.8898 │\n",
      "├─────────┼──────────────┤\n",
      "│ Offer_1 │       0.1102 │\n",
      "╘═════════╧══════════════╛\n"
     ]
    },
    {
     "name": "stderr",
     "output_type": "stream",
     "text": [
      "/Users/supanatj/anaconda3/lib/python3.6/site-packages/pgmpy/factors/discrete/DiscreteFactor.py:598: FutureWarning: Using a non-tuple sequence for multidimensional indexing is deprecated; use `arr[tuple(seq)]` instead of `arr[seq]`. In the future this will be interpreted as an array index, `arr[np.array(seq)]`, which will result either in an error or a different result.\n",
      "  phi1.values = phi1.values[slice_]\n",
      "/Users/supanatj/anaconda3/lib/python3.6/site-packages/pgmpy/factors/discrete/DiscreteFactor.py:586: FutureWarning: Using a non-tuple sequence for multidimensional indexing is deprecated; use `arr[tuple(seq)]` instead of `arr[seq]`. In the future this will be interpreted as an array index, `arr[np.array(seq)]`, which will result either in an error or a different result.\n",
      "  phi.values = phi.values[slice_]\n"
     ]
    }
   ],
   "source": [
    "prob_offer_good_genre = olympic_infer.query(variables = ['Offer','Genetics'])\n",
    "\n",
    "print(prob_offer_good_genre['Genetics'])\n",
    "print(prob_offer_good_genre['Offer'])\n",
    "\n"
   ]
  },
  {
   "cell_type": "code",
   "execution_count": 32,
   "metadata": {},
   "outputs": [
    {
     "name": "stdout",
     "output_type": "stream",
     "text": [
      "╒═════════════════╤══════════════════════╕\n",
      "│ OlympicTrials   │   phi(OlympicTrials) │\n",
      "╞═════════════════╪══════════════════════╡\n",
      "│ OlympicTrials_0 │               0.7820 │\n",
      "├─────────────────┼──────────────────────┤\n",
      "│ OlympicTrials_1 │               0.1262 │\n",
      "├─────────────────┼──────────────────────┤\n",
      "│ OlympicTrials_2 │               0.0918 │\n",
      "╘═════════════════╧══════════════════════╛\n",
      "╒═════════╤══════════════╕\n",
      "│ Offer   │   phi(Offer) │\n",
      "╞═════════╪══════════════╡\n",
      "│ Offer_0 │       0.8898 │\n",
      "├─────────┼──────────────┤\n",
      "│ Offer_1 │       0.1102 │\n",
      "╘═════════╧══════════════╛\n"
     ]
    },
    {
     "name": "stderr",
     "output_type": "stream",
     "text": [
      "/Users/supanatj/anaconda3/lib/python3.6/site-packages/pgmpy/factors/discrete/DiscreteFactor.py:598: FutureWarning: Using a non-tuple sequence for multidimensional indexing is deprecated; use `arr[tuple(seq)]` instead of `arr[seq]`. In the future this will be interpreted as an array index, `arr[np.array(seq)]`, which will result either in an error or a different result.\n",
      "  phi1.values = phi1.values[slice_]\n"
     ]
    },
    {
     "data": {
      "text/plain": [
       "'\\noffer_0 equal no offer\\n\\n'"
      ]
     },
     "execution_count": 32,
     "metadata": {},
     "output_type": "execute_result"
    }
   ],
   "source": [
    "prob_offer_good_genre = olympic_infer.query(variables = ['Offer','OlympicTrials'])\n",
    "\n",
    "print(prob_offer_good_genre['OlympicTrials'])\n",
    "print(prob_offer_good_genre['Offer'])\n",
    "\n",
    "### note\n",
    "'''\n",
    "offer_0 equal no offer\n",
    "\n",
    "'''"
   ]
  },
  {
   "cell_type": "markdown",
   "metadata": {},
   "source": [
    "Probability of Getting Olympic Offer when have bad genre"
   ]
  },
  {
   "cell_type": "code",
   "execution_count": 35,
   "metadata": {},
   "outputs": [
    {
     "name": "stdout",
     "output_type": "stream",
     "text": [
      "Probability of Getting Olympic Offer when have bad genre\n",
      "╒═════════╤══════════════╕\n",
      "│ Offer   │   phi(Offer) │\n",
      "╞═════════╪══════════════╡\n",
      "│ Offer_0 │       0.9017 │\n",
      "├─────────┼──────────────┤\n",
      "│ Offer_1 │       0.0983 │\n",
      "╘═════════╧══════════════╛\n"
     ]
    },
    {
     "name": "stderr",
     "output_type": "stream",
     "text": [
      "/Users/supanatj/anaconda3/lib/python3.6/site-packages/pgmpy/factors/discrete/DiscreteFactor.py:598: FutureWarning: Using a non-tuple sequence for multidimensional indexing is deprecated; use `arr[tuple(seq)]` instead of `arr[seq]`. In the future this will be interpreted as an array index, `arr[np.array(seq)]`, which will result either in an error or a different result.\n",
      "  phi1.values = phi1.values[slice_]\n",
      "/Users/supanatj/anaconda3/lib/python3.6/site-packages/pgmpy/factors/discrete/DiscreteFactor.py:586: FutureWarning: Using a non-tuple sequence for multidimensional indexing is deprecated; use `arr[tuple(seq)]` instead of `arr[seq]`. In the future this will be interpreted as an array index, `arr[np.array(seq)]`, which will result either in an error or a different result.\n",
      "  phi.values = phi.values[slice_]\n"
     ]
    }
   ],
   "source": [
    "prob_offer_bad_genre = olympic_infer.query(variables = ['Offer'],evidence={'Genetics':1})\n",
    "print('Probability of Getting Olympic Offer when have bad genre')\n",
    "print(prob_offer_bad_genre['Offer'])"
   ]
  },
  {
   "cell_type": "code",
   "execution_count": 36,
   "metadata": {},
   "outputs": [
    {
     "name": "stdout",
     "output_type": "stream",
     "text": [
      "╒═════════╤══════════════╕\n",
      "│ Offer   │   phi(Offer) │\n",
      "╞═════════╪══════════════╡\n",
      "│ Offer_0 │       0.8420 │\n",
      "├─────────┼──────────────┤\n",
      "│ Offer_1 │       0.1580 │\n",
      "╘═════════╧══════════════╛\n"
     ]
    },
    {
     "name": "stderr",
     "output_type": "stream",
     "text": [
      "/Users/supanatj/anaconda3/lib/python3.6/site-packages/pgmpy/factors/discrete/DiscreteFactor.py:598: FutureWarning: Using a non-tuple sequence for multidimensional indexing is deprecated; use `arr[tuple(seq)]` instead of `arr[seq]`. In the future this will be interpreted as an array index, `arr[np.array(seq)]`, which will result either in an error or a different result.\n",
      "  phi1.values = phi1.values[slice_]\n",
      "/Users/supanatj/anaconda3/lib/python3.6/site-packages/pgmpy/factors/discrete/DiscreteFactor.py:586: FutureWarning: Using a non-tuple sequence for multidimensional indexing is deprecated; use `arr[tuple(seq)]` instead of `arr[seq]`. In the future this will be interpreted as an array index, `arr[np.array(seq)]`, which will result either in an error or a different result.\n",
      "  phi.values = phi.values[slice_]\n"
     ]
    }
   ],
   "source": [
    "prob_offer_bad_genre = olympic_infer.query(variables = ['Offer'],evidence={'Genetics':0})\n",
    "print(prob_offer_bad_genre['Offer'])"
   ]
  },
  {
   "cell_type": "markdown",
   "metadata": {},
   "source": [
    "Probability of Getting Olympic Offer when have good genre and did practice"
   ]
  },
  {
   "cell_type": "code",
   "execution_count": 38,
   "metadata": {},
   "outputs": [
    {
     "name": "stdout",
     "output_type": "stream",
     "text": [
      "Probability of Getting Olympic Offer when have good genre and did practice\n",
      "╒═════════╤══════════════╕\n",
      "│ Offer   │   phi(Offer) │\n",
      "╞═════════╪══════════════╡\n",
      "│ Offer_0 │       0.8150 │\n",
      "├─────────┼──────────────┤\n",
      "│ Offer_1 │       0.1850 │\n",
      "╘═════════╧══════════════╛\n"
     ]
    },
    {
     "name": "stderr",
     "output_type": "stream",
     "text": [
      "/Users/supanatj/anaconda3/lib/python3.6/site-packages/pgmpy/factors/discrete/DiscreteFactor.py:586: FutureWarning: Using a non-tuple sequence for multidimensional indexing is deprecated; use `arr[tuple(seq)]` instead of `arr[seq]`. In the future this will be interpreted as an array index, `arr[np.array(seq)]`, which will result either in an error or a different result.\n",
      "  phi.values = phi.values[slice_]\n"
     ]
    }
   ],
   "source": [
    "prob_offer_good_genre_did_practice = olympic_infer.query(variables = ['Offer'],\n",
    "                                                         evidence={'Genetics':0,\n",
    "                                                                  'Practice':0})\n",
    "print('Probability of Getting Olympic Offer when have good genre and did practice')\n",
    "print(prob_offer_good_genre_did_practice['Offer'])"
   ]
  },
  {
   "cell_type": "markdown",
   "metadata": {},
   "source": [
    "We can also go upstram logically. For example, evidence about performance at the Olympic Trials affects the probabilities of Genectics"
   ]
  },
  {
   "cell_type": "code",
   "execution_count": 42,
   "metadata": {},
   "outputs": [
    {
     "name": "stdout",
     "output_type": "stream",
     "text": [
      "╒════════════╤═════════════════╕\n",
      "│ Genetics   │   phi(Genetics) │\n",
      "╞════════════╪═════════════════╡\n",
      "│ Genetics_0 │          0.3377 │\n",
      "├────────────┼─────────────────┤\n",
      "│ Genetics_1 │          0.6623 │\n",
      "╘════════════╧═════════════════╛\n"
     ]
    },
    {
     "name": "stderr",
     "output_type": "stream",
     "text": [
      "/Users/supanatj/anaconda3/lib/python3.6/site-packages/pgmpy/factors/discrete/DiscreteFactor.py:598: FutureWarning: Using a non-tuple sequence for multidimensional indexing is deprecated; use `arr[tuple(seq)]` instead of `arr[seq]`. In the future this will be interpreted as an array index, `arr[np.array(seq)]`, which will result either in an error or a different result.\n",
      "  phi1.values = phi1.values[slice_]\n"
     ]
    }
   ],
   "source": [
    "prob_good_genres_if_amazing_olympic_trials = olympic_infer.query(variables = ['Genetics'],\n",
    "                                                                evidence = {'OlympicTrials':2} )\n",
    "\n",
    "print(prob_good_genres_if_amazing_olympic_trials['Genetics'])"
   ]
  },
  {
   "cell_type": "code",
   "execution_count": 44,
   "metadata": {},
   "outputs": [
    {
     "name": "stdout",
     "output_type": "stream",
     "text": [
      "╒════════════╤═════════════════╕\n",
      "│ Genetics   │   phi(Genetics) │\n",
      "╞════════════╪═════════════════╡\n",
      "│ Genetics_0 │          0.3846 │\n",
      "├────────────┼─────────────────┤\n",
      "│ Genetics_1 │          0.6154 │\n",
      "╘════════════╧═════════════════╛\n"
     ]
    }
   ],
   "source": [
    "prob_good_genres_if_no_practice_good_olympic_trials = olympic_infer.query(variables = ['Genetics'],\n",
    "                                                                evidence = {'Practice':1,\n",
    "                                                                            'OlympicTrials':2} )\n",
    "\n",
    "# prob of genetic when good practice and good olypics trial\n",
    "\n",
    "print(prob_good_genres_if_no_practice_good_olympic_trials['Genetics'])"
   ]
  },
  {
   "cell_type": "markdown",
   "metadata": {},
   "source": [
    "We can find out the most probable state for a variable"
   ]
  },
  {
   "cell_type": "code",
   "execution_count": 45,
   "metadata": {},
   "outputs": [
    {
     "name": "stderr",
     "output_type": "stream",
     "text": [
      "/Users/supanatj/anaconda3/lib/python3.6/site-packages/pgmpy/factors/discrete/DiscreteFactor.py:586: FutureWarning: Using a non-tuple sequence for multidimensional indexing is deprecated; use `arr[tuple(seq)]` instead of `arr[seq]`. In the future this will be interpreted as an array index, `arr[np.array(seq)]`, which will result either in an error or a different result.\n",
      "  phi.values = phi.values[slice_]\n",
      "/Users/supanatj/anaconda3/lib/python3.6/site-packages/pgmpy/factors/discrete/DiscreteFactor.py:598: FutureWarning: Using a non-tuple sequence for multidimensional indexing is deprecated; use `arr[tuple(seq)]` instead of `arr[seq]`. In the future this will be interpreted as an array index, `arr[np.array(seq)]`, which will result either in an error or a different result.\n",
      "  phi1.values = phi1.values[slice_]\n"
     ]
    },
    {
     "data": {
      "text/plain": [
       "{'Genetics': 1}"
      ]
     },
     "execution_count": 45,
     "metadata": {},
     "output_type": "execute_result"
    }
   ],
   "source": [
    "olympic_infer.map_query(variables=['Genetics'])"
   ]
  },
  {
   "cell_type": "code",
   "execution_count": 46,
   "metadata": {},
   "outputs": [
    {
     "name": "stderr",
     "output_type": "stream",
     "text": [
      "/Users/supanatj/anaconda3/lib/python3.6/site-packages/pgmpy/factors/discrete/DiscreteFactor.py:586: FutureWarning: Using a non-tuple sequence for multidimensional indexing is deprecated; use `arr[tuple(seq)]` instead of `arr[seq]`. In the future this will be interpreted as an array index, `arr[np.array(seq)]`, which will result either in an error or a different result.\n",
      "  phi.values = phi.values[slice_]\n",
      "/Users/supanatj/anaconda3/lib/python3.6/site-packages/pgmpy/factors/discrete/DiscreteFactor.py:598: FutureWarning: Using a non-tuple sequence for multidimensional indexing is deprecated; use `arr[tuple(seq)]` instead of `arr[seq]`. In the future this will be interpreted as an array index, `arr[np.array(seq)]`, which will result either in an error or a different result.\n",
      "  phi1.values = phi1.values[slice_]\n"
     ]
    },
    {
     "data": {
      "text/plain": [
       "{'Offer': 0}"
      ]
     },
     "execution_count": 46,
     "metadata": {},
     "output_type": "execute_result"
    }
   ],
   "source": [
    "olympic_infer.map_query(variables=['Offer'])"
   ]
  },
  {
   "cell_type": "code",
   "execution_count": 47,
   "metadata": {},
   "outputs": [
    {
     "name": "stderr",
     "output_type": "stream",
     "text": [
      "/Users/supanatj/anaconda3/lib/python3.6/site-packages/pgmpy/factors/discrete/DiscreteFactor.py:586: FutureWarning: Using a non-tuple sequence for multidimensional indexing is deprecated; use `arr[tuple(seq)]` instead of `arr[seq]`. In the future this will be interpreted as an array index, `arr[np.array(seq)]`, which will result either in an error or a different result.\n",
      "  phi.values = phi.values[slice_]\n",
      "/Users/supanatj/anaconda3/lib/python3.6/site-packages/pgmpy/factors/discrete/DiscreteFactor.py:598: FutureWarning: Using a non-tuple sequence for multidimensional indexing is deprecated; use `arr[tuple(seq)]` instead of `arr[seq]`. In the future this will be interpreted as an array index, `arr[np.array(seq)]`, which will result either in an error or a different result.\n",
      "  phi1.values = phi1.values[slice_]\n"
     ]
    },
    {
     "data": {
      "text/plain": [
       "{'OlympicTrials': 0}"
      ]
     },
     "execution_count": 47,
     "metadata": {},
     "output_type": "execute_result"
    }
   ],
   "source": [
    "olympic_infer.map_query(variables=['OlympicTrials'])"
   ]
  },
  {
   "cell_type": "code",
   "execution_count": null,
   "metadata": {},
   "outputs": [],
   "source": []
  }
 ],
 "metadata": {
  "kernelspec": {
   "display_name": "Python 3",
   "language": "python",
   "name": "python3"
  },
  "language_info": {
   "codemirror_mode": {
    "name": "ipython",
    "version": 3
   },
   "file_extension": ".py",
   "mimetype": "text/x-python",
   "name": "python",
   "nbconvert_exporter": "python",
   "pygments_lexer": "ipython3",
   "version": "3.6.5"
  }
 },
 "nbformat": 4,
 "nbformat_minor": 2
}
