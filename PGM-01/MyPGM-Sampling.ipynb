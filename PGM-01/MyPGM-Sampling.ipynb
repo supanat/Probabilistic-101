{
 "cells": [
  {
   "cell_type": "code",
   "execution_count": 10,
   "metadata": {},
   "outputs": [],
   "source": [
    "import networkx as nx\n",
    "import numpy as np\n",
    "from pgmpy.models.BayesianModel import BayesianModel\n",
    "from pgmpy.factors.discrete import TabularCPD\n",
    "from pgmpy.factors.discrete import State\n",
    "import random as random\n",
    "import pandas as pd"
   ]
  },
  {
   "cell_type": "code",
   "execution_count": 2,
   "metadata": {},
   "outputs": [],
   "source": [
    "student = BayesianModel([('diff', 'grade'), ('intel', 'grade')])\n",
    "cpd_d = TabularCPD('diff', 2, [[0.6], [0.4]])\n",
    "cpd_i = TabularCPD('intel', 2, [[0.7], [0.3]])\n",
    "cpd_g = TabularCPD('grade', 3, [[0.3, 0.05, 0.9, 0.5], \n",
    "                                [0.4, 0.25,0.08, 0.3], \n",
    "                                [0.3, 0.7, 0.02, 0.2]],\n",
    "               ['intel', 'diff'], [2, 2])\n",
    "\n",
    "student.add_cpds(cpd_d, cpd_i, cpd_g)"
   ]
  },
  {
   "cell_type": "code",
   "execution_count": 3,
   "metadata": {},
   "outputs": [],
   "source": [
    "\n",
    "def get_value_from_cpd(cpd_values,random_value):\n",
    "    cpd_value_line = []\n",
    "    current = 0;\n",
    "    for i,cpd_value in enumerate(cpd_values):\n",
    "        current += cpd_value\n",
    "        if random_value<= current:\n",
    "            return i"
   ]
  },
  {
   "cell_type": "code",
   "execution_count": 4,
   "metadata": {},
   "outputs": [],
   "source": [
    "def get_value_from_cpd_evidence(cpd_values,evidence,random_value):\n",
    "    k_length = len(cpd_values)\n",
    "    cpd_value_line = []\n",
    "    current = 0;\n",
    "    for k in range(k_length):\n",
    "        v = cpd_values[k][evidence[0]][evidence[1]]\n",
    "        current += v\n",
    "        if random_value<= current:\n",
    "            return k\n",
    "        #print(v)"
   ]
  },
  {
   "cell_type": "markdown",
   "metadata": {},
   "source": [
    "### Prior Sampling"
   ]
  },
  {
   "cell_type": "code",
   "execution_count": 14,
   "metadata": {},
   "outputs": [],
   "source": [
    "def prior_sampling(model,sample_size):\n",
    "    \n",
    "    sorted_order = list(nx.topological_sort(model))\n",
    "    variable_count = len(model.nodes)\n",
    "    size = sample_size * variable_count\n",
    "    #print(size)\n",
    "    r = [random.random() for _ in range(size)]\n",
    "    k = 0\n",
    "    temp = dict()\n",
    "    sampled = []\n",
    "    \n",
    "    for i in range(sample_size):\n",
    "        for node in sorted_order:\n",
    "            cpd = model.get_cpds(node)\n",
    "            evidence = cpd.variables[:0:-1]\n",
    "            #print(evidence)  \n",
    "            v = None\n",
    "            if evidence:\n",
    "                #\n",
    "                evidence_value = []\n",
    "                for ev in evidence:\n",
    "                    evidence_value.append(temp[ev])   \n",
    "                #v = get_value_from_cpd_evidence(cpd_g.values,evidence_value,r[k])\n",
    "                v = get_value_from_cpd_evidence(model.values,evidence_value,r[k])\n",
    "                \n",
    "            else:\n",
    "                #no evidence case\n",
    "                v = get_value_from_cpd(cpd.values,r[k])\n",
    "            \n",
    "            temp[cpd.variables[0]] = v\n",
    "            k+=1\n",
    "            \n",
    "        sampled.append(temp.copy())\n",
    "        print(temp)\n",
    "    return sampled"
   ]
  },
  {
   "cell_type": "code",
   "execution_count": 6,
   "metadata": {},
   "outputs": [
    {
     "name": "stdout",
     "output_type": "stream",
     "text": [
      "{'intel': 0, 'diff': 0, 'grade': 2}\n",
      "{'intel': 1, 'diff': 0, 'grade': 2}\n",
      "{'intel': 1, 'diff': 0, 'grade': 1}\n",
      "{'intel': 0, 'diff': 1, 'grade': 0}\n",
      "{'intel': 0, 'diff': 0, 'grade': 2}\n",
      "{'intel': 0, 'diff': 0, 'grade': 1}\n",
      "{'intel': 0, 'diff': 0, 'grade': 0}\n",
      "{'intel': 0, 'diff': 1, 'grade': 0}\n",
      "{'intel': 1, 'diff': 1, 'grade': 0}\n",
      "{'intel': 0, 'diff': 0, 'grade': 0}\n"
     ]
    }
   ],
   "source": [
    "samples = prior_sampling(student,10)"
   ]
  },
  {
   "cell_type": "code",
   "execution_count": 13,
   "metadata": {},
   "outputs": [
    {
     "data": {
      "text/html": [
       "<div>\n",
       "<style scoped>\n",
       "    .dataframe tbody tr th:only-of-type {\n",
       "        vertical-align: middle;\n",
       "    }\n",
       "\n",
       "    .dataframe tbody tr th {\n",
       "        vertical-align: top;\n",
       "    }\n",
       "\n",
       "    .dataframe thead th {\n",
       "        text-align: right;\n",
       "    }\n",
       "</style>\n",
       "<table border=\"1\" class=\"dataframe\">\n",
       "  <thead>\n",
       "    <tr style=\"text-align: right;\">\n",
       "      <th></th>\n",
       "      <th>diff</th>\n",
       "      <th>intel</th>\n",
       "      <th>grade</th>\n",
       "    </tr>\n",
       "  </thead>\n",
       "  <tbody>\n",
       "    <tr>\n",
       "      <th>0</th>\n",
       "      <td>0</td>\n",
       "      <td>0</td>\n",
       "      <td>2</td>\n",
       "    </tr>\n",
       "    <tr>\n",
       "      <th>1</th>\n",
       "      <td>0</td>\n",
       "      <td>1</td>\n",
       "      <td>2</td>\n",
       "    </tr>\n",
       "    <tr>\n",
       "      <th>2</th>\n",
       "      <td>0</td>\n",
       "      <td>1</td>\n",
       "      <td>1</td>\n",
       "    </tr>\n",
       "    <tr>\n",
       "      <th>3</th>\n",
       "      <td>1</td>\n",
       "      <td>0</td>\n",
       "      <td>0</td>\n",
       "    </tr>\n",
       "    <tr>\n",
       "      <th>4</th>\n",
       "      <td>0</td>\n",
       "      <td>0</td>\n",
       "      <td>2</td>\n",
       "    </tr>\n",
       "    <tr>\n",
       "      <th>5</th>\n",
       "      <td>0</td>\n",
       "      <td>0</td>\n",
       "      <td>1</td>\n",
       "    </tr>\n",
       "    <tr>\n",
       "      <th>6</th>\n",
       "      <td>0</td>\n",
       "      <td>0</td>\n",
       "      <td>0</td>\n",
       "    </tr>\n",
       "    <tr>\n",
       "      <th>7</th>\n",
       "      <td>1</td>\n",
       "      <td>0</td>\n",
       "      <td>0</td>\n",
       "    </tr>\n",
       "    <tr>\n",
       "      <th>8</th>\n",
       "      <td>1</td>\n",
       "      <td>1</td>\n",
       "      <td>0</td>\n",
       "    </tr>\n",
       "    <tr>\n",
       "      <th>9</th>\n",
       "      <td>0</td>\n",
       "      <td>0</td>\n",
       "      <td>0</td>\n",
       "    </tr>\n",
       "  </tbody>\n",
       "</table>\n",
       "</div>"
      ],
      "text/plain": [
       "   diff  intel  grade\n",
       "0     0      0      2\n",
       "1     0      1      2\n",
       "2     0      1      1\n",
       "3     1      0      0\n",
       "4     0      0      2\n",
       "5     0      0      1\n",
       "6     0      0      0\n",
       "7     1      0      0\n",
       "8     1      1      0\n",
       "9     0      0      0"
      ]
     },
     "execution_count": 13,
     "metadata": {},
     "output_type": "execute_result"
    }
   ],
   "source": [
    "samples_df = pd.DataFrame(samples,columns=['diff','intel','grade'])\n",
    "samples_df"
   ]
  },
  {
   "cell_type": "markdown",
   "metadata": {},
   "source": [
    "### Likelihood Weighted"
   ]
  },
  {
   "cell_type": "code",
   "execution_count": null,
   "metadata": {},
   "outputs": [],
   "source": []
  }
 ],
 "metadata": {
  "kernelspec": {
   "display_name": "Python 3",
   "language": "python",
   "name": "python3"
  },
  "language_info": {
   "codemirror_mode": {
    "name": "ipython",
    "version": 3
   },
   "file_extension": ".py",
   "mimetype": "text/x-python",
   "name": "python",
   "nbconvert_exporter": "python",
   "pygments_lexer": "ipython3",
   "version": "3.6.5"
  }
 },
 "nbformat": 4,
 "nbformat_minor": 2
}
