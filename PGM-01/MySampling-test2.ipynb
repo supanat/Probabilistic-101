{
 "cells": [
  {
   "cell_type": "code",
   "execution_count": 8,
   "metadata": {},
   "outputs": [],
   "source": [
    "import networkx as nx\n",
    "import numpy as np\n",
    "from pgmpy.models.BayesianModel import BayesianModel\n",
    "from pgmpy.factors.discrete import TabularCPD\n",
    "from pgmpy.factors.discrete import State\n",
    "import random as random"
   ]
  },
  {
   "cell_type": "code",
   "execution_count": 2,
   "metadata": {},
   "outputs": [],
   "source": [
    "student = BayesianModel([('diff', 'grade'), ('intel', 'grade')])\n",
    "cpd_d = TabularCPD('diff', 2, [[0.6], [0.4]])\n",
    "cpd_i = TabularCPD('intel', 2, [[0.7], [0.3]])\n",
    "cpd_g = TabularCPD('grade', 3, [[0.3, 0.05, 0.9, 0.5], \n",
    "                                [0.4, 0.25,0.08, 0.3], \n",
    "                                [0.3, 0.7, 0.02, 0.2]],\n",
    "               ['intel', 'diff'], [2, 2])\n",
    "student.add_cpds(cpd_d, cpd_i, cpd_g)"
   ]
  },
  {
   "cell_type": "code",
   "execution_count": 61,
   "metadata": {},
   "outputs": [
    {
     "data": {
      "text/plain": [
       "['grade', 'intel', 'diff']"
      ]
     },
     "execution_count": 61,
     "metadata": {},
     "output_type": "execute_result"
    }
   ],
   "source": [
    "cpd_g.variables"
   ]
  },
  {
   "cell_type": "code",
   "execution_count": 3,
   "metadata": {},
   "outputs": [
    {
     "data": {
      "text/plain": [
       "['intel', 'diff', 'grade']"
      ]
     },
     "execution_count": 3,
     "metadata": {},
     "output_type": "execute_result"
    }
   ],
   "source": [
    "model = student\n",
    "sorted_order = list(nx.topological_sort(student))\n",
    "sorted_order"
   ]
  },
  {
   "cell_type": "code",
   "execution_count": 5,
   "metadata": {},
   "outputs": [],
   "source": [
    "sample_count = 3\n",
    "types = [(var_name, 'int') for var_name in sorted_order]\n",
    "sampled = np.zeros(sample_count, dtype=types).view(np.recarray)"
   ]
  },
  {
   "cell_type": "code",
   "execution_count": 51,
   "metadata": {},
   "outputs": [
    {
     "data": {
      "text/plain": [
       "0"
      ]
     },
     "execution_count": 51,
     "metadata": {},
     "output_type": "execute_result"
    }
   ],
   "source": [
    "sampled[0]"
   ]
  },
  {
   "cell_type": "code",
   "execution_count": 12,
   "metadata": {},
   "outputs": [
    {
     "data": {
      "text/plain": [
       "3"
      ]
     },
     "execution_count": 12,
     "metadata": {},
     "output_type": "execute_result"
    }
   ],
   "source": [
    "len(cpd.variables)"
   ]
  },
  {
   "cell_type": "code",
   "execution_count": 84,
   "metadata": {},
   "outputs": [
    {
     "name": "stdout",
     "output_type": "stream",
     "text": [
      "9\n"
     ]
    },
    {
     "data": {
      "text/plain": [
       "0.5079978060487877"
      ]
     },
     "execution_count": 84,
     "metadata": {},
     "output_type": "execute_result"
    }
   ],
   "source": [
    "variable_count = len(cpd.variables)\n",
    "size = sample_count * variable_count\n",
    "print(size)\n",
    "r = [random.random() for _ in range(size)]\n",
    "r[0]"
   ]
  },
  {
   "cell_type": "code",
   "execution_count": 90,
   "metadata": {},
   "outputs": [
    {
     "name": "stdout",
     "output_type": "stream",
     "text": [
      "╒═════════╤═════╕\n",
      "│ intel_0 │ 0.7 │\n",
      "├─────────┼─────┤\n",
      "│ intel_1 │ 0.3 │\n",
      "╘═════════╧═════╛\n",
      "[]\n",
      "no evd\n",
      "0\n",
      "╒════════╤═════╕\n",
      "│ diff_0 │ 0.6 │\n",
      "├────────┼─────┤\n",
      "│ diff_1 │ 0.4 │\n",
      "╘════════╧═════╛\n",
      "[]\n",
      "no evd\n",
      "1\n",
      "╒═════════╤═════════╤═════════╤═════════╤═════════╕\n",
      "│ intel   │ intel_0 │ intel_0 │ intel_1 │ intel_1 │\n",
      "├─────────┼─────────┼─────────┼─────────┼─────────┤\n",
      "│ diff    │ diff_0  │ diff_1  │ diff_0  │ diff_1  │\n",
      "├─────────┼─────────┼─────────┼─────────┼─────────┤\n",
      "│ grade_0 │ 0.3     │ 0.05    │ 0.9     │ 0.5     │\n",
      "├─────────┼─────────┼─────────┼─────────┼─────────┤\n",
      "│ grade_1 │ 0.4     │ 0.25    │ 0.08    │ 0.3     │\n",
      "├─────────┼─────────┼─────────┼─────────┼─────────┤\n",
      "│ grade_2 │ 0.3     │ 0.7     │ 0.02    │ 0.2     │\n",
      "╘═════════╧═════════╧═════════╧═════════╧═════════╛\n",
      "['diff', 'intel']\n"
     ]
    }
   ],
   "source": [
    "k = 0\n",
    "for node in sorted_order:\n",
    "            cpd = model.get_cpds(node)\n",
    "            print(cpd)\n",
    "            #print((cpd.values))\n",
    "            #print(cpa.variables)\n",
    "            evidence = cpd.variables[:0:-1]\n",
    "            print(evidence)\n",
    "            \n",
    "            if evidence:\n",
    "                #\n",
    "                pass\n",
    "            else:\n",
    "                # no evidence case\n",
    "                print('no evd')\n",
    "                print(get_value_from_cpd(cpd.values,r[k]))\n",
    "            \n",
    "            k+=1\n",
    "                "
   ]
  },
  {
   "cell_type": "code",
   "execution_count": 45,
   "metadata": {},
   "outputs": [],
   "source": [
    "\n",
    "def get_value_from_cpd(cpd_values,random_value):\n",
    "    cpd_value_line = []\n",
    "    current = 0;\n",
    "    for i,cpd_value in enumerate(cpd_values):\n",
    "        current += cpd_value\n",
    "        if random_value<= current:\n",
    "            return i\n",
    "        \n",
    "    '''\n",
    "    for i,cpd_value in enumerate(cpd_values):\n",
    "        #print(i)\n",
    "        if value<=cpd_value\n",
    "        \n",
    "    '''"
   ]
  },
  {
   "cell_type": "code",
   "execution_count": 80,
   "metadata": {},
   "outputs": [
    {
     "data": {
      "text/plain": [
       "1"
      ]
     },
     "execution_count": 80,
     "metadata": {},
     "output_type": "execute_result"
    }
   ],
   "source": [
    "p = [0.7,0.3]\n",
    "get_value_from_cpd(p,0.8)"
   ]
  },
  {
   "cell_type": "code",
   "execution_count": 71,
   "metadata": {},
   "outputs": [
    {
     "data": {
      "text/plain": [
       "array([[[0.3 , 0.05],\n",
       "        [0.9 , 0.5 ]],\n",
       "\n",
       "       [[0.4 , 0.25],\n",
       "        [0.08, 0.3 ]],\n",
       "\n",
       "       [[0.3 , 0.7 ],\n",
       "        [0.02, 0.2 ]]])"
      ]
     },
     "execution_count": 71,
     "metadata": {},
     "output_type": "execute_result"
    }
   ],
   "source": [
    "cpd_g.values"
   ]
  },
  {
   "cell_type": "code",
   "execution_count": 70,
   "metadata": {},
   "outputs": [
    {
     "data": {
      "text/plain": [
       "array([[0.3 , 0.05],\n",
       "       [0.9 , 0.5 ]])"
      ]
     },
     "execution_count": 70,
     "metadata": {},
     "output_type": "execute_result"
    }
   ],
   "source": [
    "cpd_g.values[0]"
   ]
  },
  {
   "cell_type": "code",
   "execution_count": 74,
   "metadata": {},
   "outputs": [
    {
     "data": {
      "text/plain": [
       "array([[[0.3 , 0.05],\n",
       "        [0.9 , 0.5 ]],\n",
       "\n",
       "       [[0.4 , 0.25],\n",
       "        [0.08, 0.3 ]],\n",
       "\n",
       "       [[0.3 , 0.7 ],\n",
       "        [0.02, 0.2 ]]])"
      ]
     },
     "execution_count": 74,
     "metadata": {},
     "output_type": "execute_result"
    }
   ],
   "source": [
    "x = cpd_g.values\n",
    "x"
   ]
  },
  {
   "cell_type": "markdown",
   "metadata": {},
   "source": [
    "#1"
   ]
  },
  {
   "cell_type": "code",
   "execution_count": 96,
   "metadata": {},
   "outputs": [
    {
     "data": {
      "text/plain": [
       "0.3"
      ]
     },
     "execution_count": 96,
     "metadata": {},
     "output_type": "execute_result"
    }
   ],
   "source": [
    "x[0][0][0]"
   ]
  },
  {
   "cell_type": "code",
   "execution_count": 97,
   "metadata": {},
   "outputs": [
    {
     "data": {
      "text/plain": [
       "0.4"
      ]
     },
     "execution_count": 97,
     "metadata": {},
     "output_type": "execute_result"
    }
   ],
   "source": [
    "x[1][0][0]"
   ]
  },
  {
   "cell_type": "code",
   "execution_count": 98,
   "metadata": {},
   "outputs": [
    {
     "data": {
      "text/plain": [
       "0.3"
      ]
     },
     "execution_count": 98,
     "metadata": {},
     "output_type": "execute_result"
    }
   ],
   "source": [
    "x[2][0][0]"
   ]
  },
  {
   "cell_type": "markdown",
   "metadata": {},
   "source": [
    "#2"
   ]
  },
  {
   "cell_type": "code",
   "execution_count": 106,
   "metadata": {},
   "outputs": [
    {
     "data": {
      "text/plain": [
       "0.05"
      ]
     },
     "execution_count": 106,
     "metadata": {},
     "output_type": "execute_result"
    }
   ],
   "source": [
    "x[0][0][1]"
   ]
  },
  {
   "cell_type": "code",
   "execution_count": 107,
   "metadata": {},
   "outputs": [
    {
     "data": {
      "text/plain": [
       "0.25"
      ]
     },
     "execution_count": 107,
     "metadata": {},
     "output_type": "execute_result"
    }
   ],
   "source": [
    "x[1][0][1]"
   ]
  },
  {
   "cell_type": "code",
   "execution_count": 108,
   "metadata": {},
   "outputs": [
    {
     "data": {
      "text/plain": [
       "0.7"
      ]
     },
     "execution_count": 108,
     "metadata": {},
     "output_type": "execute_result"
    }
   ],
   "source": [
    "x[2][0][1]"
   ]
  },
  {
   "cell_type": "code",
   "execution_count": 113,
   "metadata": {},
   "outputs": [
    {
     "data": {
      "text/plain": [
       "2"
      ]
     },
     "execution_count": 113,
     "metadata": {},
     "output_type": "execute_result"
    }
   ],
   "source": [
    "len(x[0][0])"
   ]
  },
  {
   "cell_type": "code",
   "execution_count": 127,
   "metadata": {},
   "outputs": [],
   "source": [
    "k_length = len(x)\n",
    "j_lenght = len(x[0])\n",
    "i_lenght = len(x[0][0])\n",
    "for i in range(i_lenght):\n",
    "    for j in range(j_lenght):\n",
    "        for k in range(k_length):\n",
    "            v = x[k][i][j]\n",
    "            #print(v)\n",
    "        "
   ]
  },
  {
   "cell_type": "code",
   "execution_count": 130,
   "metadata": {},
   "outputs": [],
   "source": [
    "def get_value_from_cpd_evidence(cpd_values):\n",
    "    k_length = len(x)\n",
    "    j_lenght = len(x[0])\n",
    "    i_lenght = len(x[0][0])\n",
    "    for i in range(i_lenght):\n",
    "        for j in range(j_lenght):\n",
    "            for k in range(k_length):\n",
    "                v = x[k][i][j]\n",
    "                print(v)"
   ]
  },
  {
   "cell_type": "code",
   "execution_count": 131,
   "metadata": {},
   "outputs": [
    {
     "name": "stdout",
     "output_type": "stream",
     "text": [
      "0.3\n",
      "0.4\n",
      "0.3\n",
      "0.05\n",
      "0.25\n",
      "0.7\n",
      "0.9\n",
      "0.08\n",
      "0.02\n",
      "0.5\n",
      "0.3\n",
      "0.2\n"
     ]
    }
   ],
   "source": [
    "get_value_from_cpd_evidence(cpd_g.values)"
   ]
  },
  {
   "cell_type": "code",
   "execution_count": 133,
   "metadata": {},
   "outputs": [],
   "source": [
    "def get_value_from_cpd_evidence(cpd_values,evidence):\n",
    "    k_length = len(x)\n",
    "    for k in range(k_length):\n",
    "        v = x[k][evidence[0]][evidence[1]]\n",
    "        print(v)"
   ]
  },
  {
   "cell_type": "code",
   "execution_count": 136,
   "metadata": {},
   "outputs": [
    {
     "name": "stdout",
     "output_type": "stream",
     "text": [
      "0.5\n",
      "0.3\n",
      "0.2\n"
     ]
    }
   ],
   "source": [
    "get_value_from_cpd_evidence(cpd_g.values,[1,1])"
   ]
  },
  {
   "cell_type": "code",
   "execution_count": null,
   "metadata": {},
   "outputs": [],
   "source": []
  }
 ],
 "metadata": {
  "kernelspec": {
   "display_name": "Python 3",
   "language": "python",
   "name": "python3"
  },
  "language_info": {
   "codemirror_mode": {
    "name": "ipython",
    "version": 3
   },
   "file_extension": ".py",
   "mimetype": "text/x-python",
   "name": "python",
   "nbconvert_exporter": "python",
   "pygments_lexer": "ipython3",
   "version": "3.6.5"
  }
 },
 "nbformat": 4,
 "nbformat_minor": 2
}
