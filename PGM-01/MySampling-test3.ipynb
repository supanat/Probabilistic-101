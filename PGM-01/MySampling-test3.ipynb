{
 "cells": [
  {
   "cell_type": "code",
   "execution_count": 1,
   "metadata": {},
   "outputs": [],
   "source": [
    "import networkx as nx\n",
    "import numpy as np\n",
    "from pgmpy.models.BayesianModel import BayesianModel\n",
    "from pgmpy.factors.discrete import TabularCPD\n",
    "from pgmpy.factors.discrete import State\n",
    "import random as random"
   ]
  },
  {
   "cell_type": "code",
   "execution_count": 2,
   "metadata": {},
   "outputs": [],
   "source": [
    "student = BayesianModel([('diff', 'grade'), ('intel', 'grade')])\n",
    "cpd_d = TabularCPD('diff', 2, [[0.6], [0.4]])\n",
    "cpd_i = TabularCPD('intel', 2, [[0.7], [0.3]])\n",
    "cpd_g = TabularCPD('grade', 3, [[0.3, 0.05, 0.9, 0.5], \n",
    "                                [0.4, 0.25,0.08, 0.3], \n",
    "                                [0.3, 0.7, 0.02, 0.2]],\n",
    "               ['intel', 'diff'], [2, 2])\n",
    "student.add_cpds(cpd_d, cpd_i, cpd_g)"
   ]
  },
  {
   "cell_type": "code",
   "execution_count": 3,
   "metadata": {},
   "outputs": [],
   "source": [
    "\n",
    "def get_value_from_cpd(cpd_values,random_value):\n",
    "    cpd_value_line = []\n",
    "    current = 0;\n",
    "    for i,cpd_value in enumerate(cpd_values):\n",
    "        current += cpd_value\n",
    "        if random_value<= current:\n",
    "            return i"
   ]
  },
  {
   "cell_type": "code",
   "execution_count": 4,
   "metadata": {},
   "outputs": [],
   "source": [
    "def get_value_from_cpd_evidence(cpd_values,evidence,random_value):\n",
    "    k_length = len(cpd_values)\n",
    "    cpd_value_line = []\n",
    "    current = 0;\n",
    "    for k in range(k_length):\n",
    "        v = cpd_values[k][evidence[0]][evidence[1]]\n",
    "        current += v\n",
    "        if random_value<= current:\n",
    "            return k\n",
    "        #print(v)"
   ]
  },
  {
   "cell_type": "code",
   "execution_count": 5,
   "metadata": {},
   "outputs": [
    {
     "data": {
      "text/plain": [
       "['intel', 'diff', 'grade']"
      ]
     },
     "execution_count": 5,
     "metadata": {},
     "output_type": "execute_result"
    }
   ],
   "source": [
    "model = student\n",
    "sorted_order = list(nx.topological_sort(student))\n",
    "sorted_order"
   ]
  },
  {
   "cell_type": "code",
   "execution_count": 6,
   "metadata": {},
   "outputs": [],
   "source": [
    "sample_size = 10"
   ]
  },
  {
   "cell_type": "code",
   "execution_count": 20,
   "metadata": {},
   "outputs": [
    {
     "name": "stdout",
     "output_type": "stream",
     "text": [
      "30\n"
     ]
    },
    {
     "data": {
      "text/plain": [
       "[0.3923109564219488,\n",
       " 0.07121676119484877,\n",
       " 0.5905351813493315,\n",
       " 0.5258161018307295,\n",
       " 0.21363155021381364,\n",
       " 0.5708016657792119,\n",
       " 0.3192765141356242,\n",
       " 0.6670552762044116,\n",
       " 0.03254147395669382,\n",
       " 0.5023009739013418,\n",
       " 0.27724001675506393,\n",
       " 0.7432221285498595,\n",
       " 0.14267794596242733,\n",
       " 0.19661142590490266,\n",
       " 0.7208682838505683,\n",
       " 0.73364567530697,\n",
       " 0.02141542779147032,\n",
       " 0.8977773906108545,\n",
       " 0.33846426798311846,\n",
       " 0.7396951291051057,\n",
       " 0.9428493343833309,\n",
       " 0.4195706653713486,\n",
       " 0.45867087448363186,\n",
       " 0.5102677992886416,\n",
       " 0.8770653548333583,\n",
       " 0.3450585079522328,\n",
       " 0.927034708766155,\n",
       " 0.1643619821323734,\n",
       " 0.44779733621204376,\n",
       " 0.32412581423142517]"
      ]
     },
     "execution_count": 20,
     "metadata": {},
     "output_type": "execute_result"
    }
   ],
   "source": [
    "variable_count = len(student.nodes)\n",
    "size = sample_size * variable_count\n",
    "print(size)\n",
    "r = [random.random() for _ in range(size)]\n",
    "r"
   ]
  },
  {
   "cell_type": "code",
   "execution_count": 8,
   "metadata": {},
   "outputs": [
    {
     "name": "stdout",
     "output_type": "stream",
     "text": [
      "{'intel': 0, 'diff': 1, 'grade': 0}\n",
      "{'intel': 0, 'diff': 1, 'grade': 1}\n",
      "{'intel': 0, 'diff': 1, 'grade': 1}\n",
      "{'intel': 0, 'diff': 1, 'grade': 0}\n",
      "{'intel': 0, 'diff': 1, 'grade': 0}\n",
      "{'intel': 0, 'diff': 0, 'grade': 2}\n",
      "{'intel': 0, 'diff': 0, 'grade': 1}\n",
      "{'intel': 1, 'diff': 0, 'grade': 2}\n",
      "{'intel': 1, 'diff': 1, 'grade': 0}\n",
      "{'intel': 1, 'diff': 1, 'grade': 2}\n"
     ]
    }
   ],
   "source": [
    "k = 0\n",
    "temp = dict()\n",
    "for i in range(sample_size):\n",
    "    for node in sorted_order:\n",
    "            cpd = model.get_cpds(node)\n",
    "            evidence = cpd.variables[:0:-1]\n",
    "            #print(evidence)  \n",
    "            v = None\n",
    "            if evidence:\n",
    "                #\n",
    "                evidence_value = []\n",
    "                for ev in evidence:\n",
    "                    evidence_value.append(temp[ev])   \n",
    "                v = get_value_from_cpd_evidence(cpd_g.values,evidence_value,r[k])\n",
    "                \n",
    "            else:\n",
    "                #no evidence case\n",
    "                v = get_value_from_cpd(cpd.values,r[k])\n",
    "            \n",
    "            temp[cpd.variables[0]] = v\n",
    "            k+=1\n",
    "    print(temp)"
   ]
  },
  {
   "cell_type": "code",
   "execution_count": 87,
   "metadata": {},
   "outputs": [],
   "source": [
    "def prior_sampling(model,sample_size):\n",
    "    \n",
    "    sorted_order = list(nx.topological_sort(model))\n",
    "    variable_count = len(model.nodes)\n",
    "    size = sample_size * variable_count\n",
    "    #print(size)\n",
    "    r = [random.random() for _ in range(size)]\n",
    "    k = 0\n",
    "    temp = dict()\n",
    "    sampled = []\n",
    "    \n",
    "    for i in range(sample_size):\n",
    "        for node in sorted_order:\n",
    "            cpd = model.get_cpds(node)\n",
    "            evidence = cpd.variables[:0:-1]\n",
    "            #print(evidence)  \n",
    "            v = None\n",
    "            if evidence:\n",
    "                #\n",
    "                evidence_value = []\n",
    "                for ev in evidence:\n",
    "                    evidence_value.append(temp[ev])   \n",
    "                v = get_value_from_cpd_evidence(cpd_g.values,evidence_value,r[k])\n",
    "                \n",
    "            else:\n",
    "                #no evidence case\n",
    "                v = get_value_from_cpd(cpd.values,r[k])\n",
    "            \n",
    "            temp[cpd.variables[0]] = v\n",
    "            k+=1\n",
    "            \n",
    "        sampled.append(temp.copy())\n",
    "        print(temp)\n",
    "    return sampled"
   ]
  },
  {
   "cell_type": "code",
   "execution_count": 90,
   "metadata": {},
   "outputs": [
    {
     "name": "stdout",
     "output_type": "stream",
     "text": [
      "{'intel': 1, 'diff': 0, 'grade': 2}\n",
      "{'intel': 0, 'diff': 0, 'grade': 2}\n",
      "{'intel': 0, 'diff': 1, 'grade': 0}\n",
      "{'intel': 1, 'diff': 0, 'grade': 1}\n",
      "{'intel': 0, 'diff': 1, 'grade': 1}\n",
      "{'intel': 1, 'diff': 1, 'grade': 0}\n",
      "{'intel': 0, 'diff': 0, 'grade': 1}\n",
      "{'intel': 1, 'diff': 0, 'grade': 1}\n",
      "{'intel': 0, 'diff': 0, 'grade': 2}\n",
      "{'intel': 0, 'diff': 0, 'grade': 1}\n"
     ]
    }
   ],
   "source": [
    "sample = prior_sampling(student,10)"
   ]
  },
  {
   "cell_type": "code",
   "execution_count": 91,
   "metadata": {},
   "outputs": [
    {
     "data": {
      "text/plain": [
       "[{'intel': 1, 'diff': 0, 'grade': 2},\n",
       " {'intel': 0, 'diff': 0, 'grade': 2},\n",
       " {'intel': 0, 'diff': 1, 'grade': 0},\n",
       " {'intel': 1, 'diff': 0, 'grade': 1},\n",
       " {'intel': 0, 'diff': 1, 'grade': 1},\n",
       " {'intel': 1, 'diff': 1, 'grade': 0},\n",
       " {'intel': 0, 'diff': 0, 'grade': 1},\n",
       " {'intel': 1, 'diff': 0, 'grade': 1},\n",
       " {'intel': 0, 'diff': 0, 'grade': 2},\n",
       " {'intel': 0, 'diff': 0, 'grade': 1}]"
      ]
     },
     "execution_count": 91,
     "metadata": {},
     "output_type": "execute_result"
    }
   ],
   "source": [
    "sample"
   ]
  },
  {
   "cell_type": "code",
   "execution_count": null,
   "metadata": {},
   "outputs": [],
   "source": []
  },
  {
   "cell_type": "code",
   "execution_count": null,
   "metadata": {},
   "outputs": [],
   "source": []
  }
 ],
 "metadata": {
  "kernelspec": {
   "display_name": "Python 3",
   "language": "python",
   "name": "python3"
  },
  "language_info": {
   "codemirror_mode": {
    "name": "ipython",
    "version": 3
   },
   "file_extension": ".py",
   "mimetype": "text/x-python",
   "name": "python",
   "nbconvert_exporter": "python",
   "pygments_lexer": "ipython3",
   "version": "3.6.5"
  }
 },
 "nbformat": 4,
 "nbformat_minor": 2
}
