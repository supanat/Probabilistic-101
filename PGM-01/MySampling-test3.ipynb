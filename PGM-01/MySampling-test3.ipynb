{
 "cells": [
  {
   "cell_type": "code",
   "execution_count": 105,
   "metadata": {},
   "outputs": [],
   "source": [
    "import networkx as nx\n",
    "import numpy as np\n",
    "from pgmpy.models.BayesianModel import BayesianModel\n",
    "from pgmpy.factors.discrete import TabularCPD\n",
    "from pgmpy.factors.discrete import State\n",
    "import random as random"
   ]
  },
  {
   "cell_type": "code",
   "execution_count": 125,
   "metadata": {},
   "outputs": [],
   "source": [
    "student = BayesianModel([('diff', 'grade'), ('intel', 'grade')])\n",
    "cpd_d = TabularCPD('diff', 2, [[0.6], [0.4]])\n",
    "cpd_i = TabularCPD('intel', 2, [[0.7], [0.3]])\n",
    "cpd_g = TabularCPD('grade', 3, [[0.3, 0.05, 0.9, 0.5], \n",
    "                                [0.4, 0.25,0.08, 0.3], \n",
    "                                [0.3, 0.7, 0.02, 0.2]],\n",
    "               ['intel', 'diff'], [2, 2])\n",
    "student.add_cpds(cpd_d, cpd_i, cpd_g)"
   ]
  },
  {
   "cell_type": "code",
   "execution_count": 183,
   "metadata": {},
   "outputs": [],
   "source": [
    "def get_value_from_cpd(cpd_values,random_value):\n",
    "    cpd_value_line = []\n",
    "    current = 0;\n",
    "    for i,cpd_value in enumerate(cpd_values):\n",
    "        current += cpd_value\n",
    "        if random_value<= current:\n",
    "            return i"
   ]
  },
  {
   "cell_type": "code",
   "execution_count": 108,
   "metadata": {},
   "outputs": [],
   "source": [
    "def get_value_from_cpd_evidence(cpd_values,evidence,random_value):\n",
    "    k_length = len(cpd_values)\n",
    "    cpd_value_line = []\n",
    "    current = 0;\n",
    "    for k in range(k_length):\n",
    "        v = cpd_values[k][evidence[0]][evidence[1]]\n",
    "        current += v\n",
    "        if random_value<= current:\n",
    "            return k\n",
    "        #print(v)"
   ]
  },
  {
   "cell_type": "code",
   "execution_count": 109,
   "metadata": {},
   "outputs": [
    {
     "data": {
      "text/plain": [
       "['intel', 'diff', 'grade']"
      ]
     },
     "execution_count": 109,
     "metadata": {},
     "output_type": "execute_result"
    }
   ],
   "source": [
    "model = student\n",
    "sorted_order = list(nx.topological_sort(student))\n",
    "sorted_order"
   ]
  },
  {
   "cell_type": "code",
   "execution_count": 110,
   "metadata": {},
   "outputs": [],
   "source": [
    "sample_size = 10"
   ]
  },
  {
   "cell_type": "code",
   "execution_count": 111,
   "metadata": {},
   "outputs": [
    {
     "name": "stdout",
     "output_type": "stream",
     "text": [
      "30\n"
     ]
    },
    {
     "data": {
      "text/plain": [
       "[0.21639469464692762,\n",
       " 0.36772525663788824,\n",
       " 0.9642977757032669,\n",
       " 0.2623102433654687,\n",
       " 0.8811447107621848,\n",
       " 0.3027988127840141,\n",
       " 0.8677340579313474,\n",
       " 0.3010770339667802,\n",
       " 0.9587862949949745,\n",
       " 0.20804651851543432,\n",
       " 0.06586264176661338,\n",
       " 0.6001778443054191,\n",
       " 0.4873802192831419,\n",
       " 0.5706969430186097,\n",
       " 0.0790388509015566,\n",
       " 0.15921587383147606,\n",
       " 0.2570482074553321,\n",
       " 0.9490505553949541,\n",
       " 0.02946730422650834,\n",
       " 0.5436481200025295,\n",
       " 0.12369462945831655,\n",
       " 0.6791350831057534,\n",
       " 0.9760082687964933,\n",
       " 0.9939558217507388,\n",
       " 0.43410021926032616,\n",
       " 0.951157418007694,\n",
       " 0.6115901002923657,\n",
       " 0.8195585470458494,\n",
       " 0.4580129739072849,\n",
       " 0.8697658742149881]"
      ]
     },
     "execution_count": 111,
     "metadata": {},
     "output_type": "execute_result"
    }
   ],
   "source": [
    "variable_count = len(student.nodes)\n",
    "size = sample_size * variable_count\n",
    "print(size)\n",
    "r = [random.random() for _ in range(size)]\n",
    "r"
   ]
  },
  {
   "cell_type": "code",
   "execution_count": 130,
   "metadata": {},
   "outputs": [
    {
     "name": "stdout",
     "output_type": "stream",
     "text": [
      "{'intel': 0, 'diff': 0, 'grade': 2}\n",
      "{'intel': 0, 'diff': 1, 'grade': 0}\n",
      "{'intel': 1, 'diff': 0, 'grade': 2}\n",
      "{'intel': 0, 'diff': 0, 'grade': 1}\n",
      "{'intel': 0, 'diff': 0, 'grade': 0}\n",
      "{'intel': 0, 'diff': 0, 'grade': 2}\n",
      "{'intel': 0, 'diff': 0, 'grade': 0}\n",
      "{'intel': 0, 'diff': 1, 'grade': 2}\n",
      "{'intel': 0, 'diff': 1, 'grade': 0}\n",
      "{'intel': 1, 'diff': 0, 'grade': 2}\n"
     ]
    }
   ],
   "source": [
    "k = 0\n",
    "temp = dict()\n",
    "for i in range(sample_size):\n",
    "    for node in sorted_order:\n",
    "            cpd = model.get_cpds(node)\n",
    "            evidence = cpd.variables[:0:-1]\n",
    "            #print(cpd.variable)\n",
    "            #print('-----')\n",
    "            #print(evidence)  \n",
    "            v = None\n",
    "            if evidence:\n",
    "                #\n",
    "                evidence_value = []\n",
    "                for ev in evidence:\n",
    "                    evidence_value.append(temp[ev])   \n",
    "                v = get_value_from_cpd_evidence(cpd_g.values,evidence_value,r[k])\n",
    "                \n",
    "            else:\n",
    "                #no evidence case\n",
    "                v = get_value_from_cpd(cpd.values,r[k])\n",
    "            \n",
    "            temp[cpd.variables[0]] = v\n",
    "            k+=1\n",
    "    print(temp)"
   ]
  },
  {
   "cell_type": "code",
   "execution_count": 131,
   "metadata": {},
   "outputs": [],
   "source": [
    "def prior_sampling(model,sample_size):\n",
    "    \n",
    "    sorted_order = list(nx.topological_sort(model))\n",
    "    variable_count = len(model.nodes)\n",
    "    size = sample_size * variable_count\n",
    "    #print(size)\n",
    "    r = [random.random() for _ in range(size)]\n",
    "    k = 0\n",
    "    temp = dict()\n",
    "    sampled = []\n",
    "    \n",
    "    for i in range(sample_size):\n",
    "        for node in sorted_order:\n",
    "            cpd = model.get_cpds(node)\n",
    "            evidence = cpd.variables[:0:-1]\n",
    "            #print(evidence)  \n",
    "            v = None\n",
    "            if evidence:\n",
    "                #\n",
    "                evidence_value = []\n",
    "                for ev in evidence:\n",
    "                    evidence_value.append(temp[ev])   \n",
    "                #v = get_value_from_cpd_evidence(cpd_g.values,evidence_value,r[k])\n",
    "                v = get_value_from_cpd_evidence(cpd.values,evidence_value,r[k])\n",
    "            else:\n",
    "                #no evidence case\n",
    "                v = get_value_from_cpd(cpd.values,r[k])\n",
    "            \n",
    "            temp[cpd.variables[0]] = v\n",
    "            k+=1\n",
    "            \n",
    "        sampled.append(temp.copy())\n",
    "        print(temp)\n",
    "    return sampled"
   ]
  },
  {
   "cell_type": "code",
   "execution_count": 132,
   "metadata": {},
   "outputs": [
    {
     "name": "stdout",
     "output_type": "stream",
     "text": [
      "{'intel': 1, 'diff': 0, 'grade': 1}\n",
      "{'intel': 1, 'diff': 0, 'grade': 2}\n",
      "{'intel': 1, 'diff': 0, 'grade': 2}\n",
      "{'intel': 0, 'diff': 0, 'grade': 0}\n",
      "{'intel': 0, 'diff': 0, 'grade': 2}\n",
      "{'intel': 0, 'diff': 0, 'grade': 1}\n",
      "{'intel': 0, 'diff': 0, 'grade': 1}\n",
      "{'intel': 0, 'diff': 1, 'grade': 0}\n",
      "{'intel': 1, 'diff': 1, 'grade': 1}\n",
      "{'intel': 0, 'diff': 0, 'grade': 1}\n"
     ]
    },
    {
     "data": {
      "text/plain": [
       "[{'intel': 1, 'diff': 0, 'grade': 1},\n",
       " {'intel': 1, 'diff': 0, 'grade': 2},\n",
       " {'intel': 1, 'diff': 0, 'grade': 2},\n",
       " {'intel': 0, 'diff': 0, 'grade': 0},\n",
       " {'intel': 0, 'diff': 0, 'grade': 2},\n",
       " {'intel': 0, 'diff': 0, 'grade': 1},\n",
       " {'intel': 0, 'diff': 0, 'grade': 1},\n",
       " {'intel': 0, 'diff': 1, 'grade': 0},\n",
       " {'intel': 1, 'diff': 1, 'grade': 1},\n",
       " {'intel': 0, 'diff': 0, 'grade': 1}]"
      ]
     },
     "execution_count": 132,
     "metadata": {},
     "output_type": "execute_result"
    }
   ],
   "source": [
    "prior_sampling(student,sample_size=10)"
   ]
  },
  {
   "cell_type": "code",
   "execution_count": 133,
   "metadata": {},
   "outputs": [
    {
     "data": {
      "text/plain": [
       "[{'intel': 1, 'diff': 0, 'grade': 2},\n",
       " {'intel': 0, 'diff': 0, 'grade': 2},\n",
       " {'intel': 0, 'diff': 1, 'grade': 0},\n",
       " {'intel': 1, 'diff': 0, 'grade': 1},\n",
       " {'intel': 0, 'diff': 1, 'grade': 1},\n",
       " {'intel': 1, 'diff': 1, 'grade': 0},\n",
       " {'intel': 0, 'diff': 0, 'grade': 1},\n",
       " {'intel': 1, 'diff': 0, 'grade': 1},\n",
       " {'intel': 0, 'diff': 0, 'grade': 2},\n",
       " {'intel': 0, 'diff': 0, 'grade': 1}]"
      ]
     },
     "execution_count": 133,
     "metadata": {},
     "output_type": "execute_result"
    }
   ],
   "source": [
    "sample"
   ]
  },
  {
   "cell_type": "markdown",
   "metadata": {},
   "source": [
    "### Likelihood Weighted"
   ]
  },
  {
   "cell_type": "code",
   "execution_count": 180,
   "metadata": {},
   "outputs": [
    {
     "name": "stdout",
     "output_type": "stream",
     "text": [
      "{'intel': 0, 'diff': 0, 'grade': 2}\n",
      "{'intel': 0, 'diff': 1, 'grade': 0}\n",
      "{'intel': 1, 'diff': 0, 'grade': 2}\n",
      "{'intel': 0, 'diff': 0, 'grade': 1}\n",
      "{'intel': 0, 'diff': 0, 'grade': 0}\n",
      "{'intel': 0, 'diff': 0, 'grade': 2}\n",
      "{'intel': 0, 'diff': 0, 'grade': 0}\n",
      "{'intel': 0, 'diff': 1, 'grade': 2}\n",
      "{'intel': 0, 'diff': 1, 'grade': 0}\n",
      "{'intel': 1, 'diff': 0, 'grade': 2}\n"
     ]
    }
   ],
   "source": [
    "k = 0\n",
    "temp = dict()\n",
    "for i in range(sample_size):\n",
    "    for node in sorted_order:\n",
    "            cpd = model.get_cpds(node)\n",
    "            evidence = cpd.variables[:0:-1]\n",
    "            #print(cpd.variable)\n",
    "            #print('-----')\n",
    "            #print(evidence)  \n",
    "\n",
    "            \n",
    "            v = None\n",
    "            if evidence:\n",
    "                #\n",
    "                evidence_value = []\n",
    "                for ev in evidence:\n",
    "                    evidence_value.append(temp[ev])   \n",
    "                v = get_value_from_cpd_evidence(cpd_g.values,evidence_value,r[k])\n",
    "                \n",
    "            else:\n",
    "                #no evidence case\n",
    "                v = get_value_from_cpd(cpd.values,r[k])\n",
    "            \n",
    "            temp[cpd.variables[0]] = v\n",
    "            k+=1\n",
    "    print(temp)"
   ]
  },
  {
   "cell_type": "code",
   "execution_count": 215,
   "metadata": {},
   "outputs": [],
   "source": [
    "def get_weighted_from_cpd(cpd_values,random_value):\n",
    "    cpd_value_line = []\n",
    "    current = 0;\n",
    "    for i,cpd_value in enumerate(cpd_values):\n",
    "        current += cpd_value\n",
    "        #print('cpdv',cpd_value)\n",
    "        if random_value<= current:\n",
    "            return cpd_value"
   ]
  },
  {
   "cell_type": "code",
   "execution_count": 237,
   "metadata": {},
   "outputs": [],
   "source": [
    "def likelihood_weighted_sampling(model,given_evidence,sample_size):\n",
    "    \n",
    "    sorted_order = list(nx.topological_sort(model))\n",
    "    variable_count = len(model.nodes)\n",
    "    size = sample_size * variable_count\n",
    "    #print(size)\n",
    "    r = [random.random() for _ in range(size)]\n",
    "    k = 0\n",
    "    temp = dict()\n",
    "    sampled = []\n",
    "    \n",
    "    for i in range(sample_size):\n",
    "        w_list = []\n",
    "        for node in sorted_order:\n",
    "            cpd = model.get_cpds(node)\n",
    "            evidence = cpd.variables[:0:-1]\n",
    "            #print(evidence)  \n",
    "            \n",
    "            \n",
    "            v = None\n",
    "            w = 1.0\n",
    "            \n",
    "            if cpd.variable in given_evidences:\n",
    "                v = given_evidences[cpd.variable]\n",
    "                w_list.append(get_weighted_from_cpd(cpd.values,r[k]))\n",
    "                #print('w',w_list)\n",
    "            else:\n",
    "                if evidence:\n",
    "                #\n",
    "                    evidence_value = []\n",
    "                    for ev in evidence:\n",
    "                        evidence_value.append(temp[ev])   \n",
    "                        #print(evidence_value)\n",
    "                        #v = get_value_from_cpd_evidence(cpd_g.values,evidence_value,r[k])\n",
    "                    v = get_value_from_cpd_evidence(cpd.values,evidence_value,r[k])\n",
    "                else:\n",
    "                #no evidence case\n",
    "                    v = get_value_from_cpd(cpd.values,r[k])\n",
    "            \n",
    "            \n",
    "            temp[cpd.variables[0]] = v\n",
    "            \n",
    "            \n",
    "            \n",
    "            '''\n",
    "            for wi in w_list:\n",
    "                w *= wi\n",
    "                print(w)\n",
    "            temp['weighted'] = w\n",
    "            '''\n",
    "            \n",
    "            k+=1\n",
    "            \n",
    "        \n",
    "        print('w',w_list)\n",
    "        w = 1.0\n",
    "        for wi in w_list:\n",
    "            w *= wi\n",
    "            print('wi',wi)\n",
    "        temp['weighted'] = w\n",
    "            \n",
    "        sampled.append(temp.copy())\n",
    "        \n",
    "        #print(temp)\n",
    "    return sampled"
   ]
  },
  {
   "cell_type": "code",
   "execution_count": 139,
   "metadata": {},
   "outputs": [
    {
     "name": "stdout",
     "output_type": "stream",
     "text": [
      "<class 'list'>\n"
     ]
    }
   ],
   "source": [
    "given_evidence = [['intel','0']]\n",
    "print(type(given_evidence))\n",
    "likelihood_weighted_sampling([['intel','0']])"
   ]
  },
  {
   "cell_type": "code",
   "execution_count": 209,
   "metadata": {},
   "outputs": [
    {
     "name": "stdout",
     "output_type": "stream",
     "text": [
      "<class 'dict'>\n",
      "yes\n",
      "0\n"
     ]
    }
   ],
   "source": [
    "given_evidences = dict()\n",
    "given_evidences['intel'] = 0\n",
    "given_evidences['diff'] = 0\n",
    "print(type(given_evidences))\n",
    "\n",
    "variable = 'diff'\n",
    "\n",
    "if variable in given_evidences:\n",
    "    print('yes')\n",
    "    print(given_evidences[variable])\n",
    "else:\n",
    "    print('no')\n"
   ]
  },
  {
   "cell_type": "code",
   "execution_count": 238,
   "metadata": {},
   "outputs": [
    {
     "name": "stdout",
     "output_type": "stream",
     "text": [
      "w [0.3, 0.4]\n",
      "wi 0.3\n",
      "wi 0.4\n",
      "w [0.7, 0.6]\n",
      "wi 0.7\n",
      "wi 0.6\n",
      "w [0.3, 0.6]\n",
      "wi 0.3\n",
      "wi 0.6\n",
      "w [0.7, 0.6]\n",
      "wi 0.7\n",
      "wi 0.6\n",
      "w [0.7, 0.6]\n",
      "wi 0.7\n",
      "wi 0.6\n",
      "w [0.7, 0.6]\n",
      "wi 0.7\n",
      "wi 0.6\n",
      "w [0.7, 0.6]\n",
      "wi 0.7\n",
      "wi 0.6\n",
      "w [0.7, 0.4]\n",
      "wi 0.7\n",
      "wi 0.4\n",
      "w [0.7, 0.6]\n",
      "wi 0.7\n",
      "wi 0.6\n",
      "w [0.3, 0.4]\n",
      "wi 0.3\n",
      "wi 0.4\n",
      "w [0.7, 0.4]\n",
      "wi 0.7\n",
      "wi 0.4\n",
      "w [0.7, 0.4]\n",
      "wi 0.7\n",
      "wi 0.4\n",
      "w [0.3, 0.4]\n",
      "wi 0.3\n",
      "wi 0.4\n",
      "w [0.3, 0.6]\n",
      "wi 0.3\n",
      "wi 0.6\n",
      "w [0.7, 0.4]\n",
      "wi 0.7\n",
      "wi 0.4\n",
      "w [0.7, 0.6]\n",
      "wi 0.7\n",
      "wi 0.6\n",
      "w [0.7, 0.6]\n",
      "wi 0.7\n",
      "wi 0.6\n",
      "w [0.7, 0.4]\n",
      "wi 0.7\n",
      "wi 0.4\n",
      "w [0.7, 0.6]\n",
      "wi 0.7\n",
      "wi 0.6\n",
      "w [0.7, 0.6]\n",
      "wi 0.7\n",
      "wi 0.6\n"
     ]
    },
    {
     "data": {
      "text/plain": [
       "[{'intel': 1, 'diff': 0, 'grade': 1, 'weighted': 0.12},\n",
       " {'intel': 1, 'diff': 0, 'grade': 1, 'weighted': 0.42},\n",
       " {'intel': 1, 'diff': 0, 'grade': 2, 'weighted': 0.18},\n",
       " {'intel': 1, 'diff': 0, 'grade': 2, 'weighted': 0.42},\n",
       " {'intel': 1, 'diff': 0, 'grade': 1, 'weighted': 0.42},\n",
       " {'intel': 1, 'diff': 0, 'grade': 1, 'weighted': 0.42},\n",
       " {'intel': 1, 'diff': 0, 'grade': 1, 'weighted': 0.42},\n",
       " {'intel': 1, 'diff': 0, 'grade': 2, 'weighted': 0.27999999999999997},\n",
       " {'intel': 1, 'diff': 0, 'grade': 2, 'weighted': 0.42},\n",
       " {'intel': 1, 'diff': 0, 'grade': 2, 'weighted': 0.12},\n",
       " {'intel': 1, 'diff': 0, 'grade': 2, 'weighted': 0.27999999999999997},\n",
       " {'intel': 1, 'diff': 0, 'grade': 2, 'weighted': 0.27999999999999997},\n",
       " {'intel': 1, 'diff': 0, 'grade': 2, 'weighted': 0.12},\n",
       " {'intel': 1, 'diff': 0, 'grade': 1, 'weighted': 0.18},\n",
       " {'intel': 1, 'diff': 0, 'grade': 2, 'weighted': 0.27999999999999997},\n",
       " {'intel': 1, 'diff': 0, 'grade': 2, 'weighted': 0.42},\n",
       " {'intel': 1, 'diff': 0, 'grade': 2, 'weighted': 0.42},\n",
       " {'intel': 1, 'diff': 0, 'grade': 0, 'weighted': 0.27999999999999997},\n",
       " {'intel': 1, 'diff': 0, 'grade': 2, 'weighted': 0.42},\n",
       " {'intel': 1, 'diff': 0, 'grade': 2, 'weighted': 0.42}]"
      ]
     },
     "execution_count": 238,
     "metadata": {},
     "output_type": "execute_result"
    }
   ],
   "source": [
    "given_evidences = dict()\n",
    "given_evidences['intel'] = 1\n",
    "given_evidences['diff'] = 0\n",
    "likelihood_weighted_sampling(student,given_evidences,20)\n"
   ]
  },
  {
   "cell_type": "code",
   "execution_count": null,
   "metadata": {},
   "outputs": [],
   "source": []
  }
 ],
 "metadata": {
  "kernelspec": {
   "display_name": "Python 3",
   "language": "python",
   "name": "python3"
  },
  "language_info": {
   "codemirror_mode": {
    "name": "ipython",
    "version": 3
   },
   "file_extension": ".py",
   "mimetype": "text/x-python",
   "name": "python",
   "nbconvert_exporter": "python",
   "pygments_lexer": "ipython3",
   "version": "3.6.5"
  }
 },
 "nbformat": 4,
 "nbformat_minor": 2
}
